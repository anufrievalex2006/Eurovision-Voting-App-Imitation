{
 "cells": [
  {
   "cell_type": "code",
   "execution_count": 2,
   "metadata": {},
   "outputs": [],
   "source": [
    "from openpyxl import load_workbook\n",
    "import flet as ft\n",
    "\n",
    "def C(row: int, column: int, sheet):\n",
    "    return sheet.cell(row, column).value\n",
    "\n",
    "scfest = load_workbook('ESC.xlsx')\n",
    "\n",
    "semifinal1, semifinal2 = scfest['SF1'], scfest['SF2']\n",
    "voters = [C(1,i,semifinal1) for i in range(2,40)] # Voting countries\n",
    "cnts1, cnts2 = [C(i,1,semifinal1) for i in range(2,18)], [C(i,1,semifinal2) for i in range(2,19)] # Participants of the First and Second Semi-Final respectively\n",
    "points = [12,10] + [i for i in range(8,0,-1)]\n",
    "\n",
    "sums1 = [sum(C(j,i,semifinal1) for j in range(2,18)) for i in range(2,40)]\n",
    "sums2 = [sum(C(j,i,semifinal2) for j in range(2,19)) for i in range(2,40)]\n",
    "\n",
    "ind,ch = 0,[]\n",
    "def main(p: ft.Page):\n",
    "    p.title = 'First Semi-Final: You Decide'\n",
    "    p.window_width, p.window_height = 680, 800\n",
    "\n",
    "    def disable(e):\n",
    "        global ind, ch\n",
    "        your_country.disabled = True\n",
    "        if e.control.text == your_country.value:\n",
    "            p.show_dialog(ft.AlertDialog(title=ft.Text('You cannot vote for yourself!')))\n",
    "        else:\n",
    "            if len(ch)==9:\n",
    "                e.control.disabled = True\n",
    "                p.add(ft.Text(value=f'{ind+1}. {e.control.text} - {points[ind]}'))\n",
    "                ch.append(cnts1.index(e.control.text)+1)\n",
    "                ind += 1\n",
    "                count_votes()\n",
    "                p.show_dialog(ft.AlertDialog(title=ft.Text('Thank you for voting!')))\n",
    "            if len(ch)<9:\n",
    "                e.control.disabled = True\n",
    "                p.add(ft.Text(value=f'{ind+1}. {e.control.text} - {points[ind]}'))\n",
    "                ch.append(cnts1.index(e.control.text)+1)\n",
    "                ind += 1\n",
    "        p.update()\n",
    "\n",
    "    def change(e):\n",
    "        if e.control.value != '':\n",
    "            for i in bs:\n",
    "                i.disabled = False\n",
    "        p.update()\n",
    "\n",
    "    bs = [ft.FilledButton(text=country, disabled=True, on_click=disable) for country in cnts1]\n",
    "    rows = [ft.Row(controls=[bs[i],bs[i+(len(cnts1)//2)]]) for i in range(len(cnts1)//2)]\n",
    "    your_country = ft.Dropdown(on_change=change, options=[ft.dropdown.Option(text=v) if sums1[i]<580 else ft.dropdown.Option(text=f'{v} (already voted 10 times)', disabled=True) for i,v in enumerate(voters)])\n",
    "\n",
    "    def count_votes():\n",
    "        for e,i in enumerate(ch):\n",
    "            semifinal1.cell(row=i+1, column=voters.index(your_country.value)+2).value += points[e]\n",
    "        scfest.save('ESC.xlsx')\n",
    "        p.window_close()\n",
    "\n",
    "    p.add(\n",
    "        ft.Row(controls=[\n",
    "            ft.Text(value='Choose your country: ', size=28),\n",
    "            your_country\n",
    "        ]),\n",
    "    )\n",
    "    for r in rows:\n",
    "        p.add(r)\n",
    "    # p.add(b17)\n",
    "\n",
    "ft.app(main)"
   ]
  }
 ],
 "metadata": {
  "kernelspec": {
   "display_name": "Python 3.11.1 64-bit",
   "language": "python",
   "name": "python3"
  },
  "language_info": {
   "codemirror_mode": {
    "name": "ipython",
    "version": 3
   },
   "file_extension": ".py",
   "mimetype": "text/x-python",
   "name": "python",
   "nbconvert_exporter": "python",
   "pygments_lexer": "ipython3",
   "version": "3.11.5"
  },
  "orig_nbformat": 4,
  "vscode": {
   "interpreter": {
    "hash": "e993b55ef17ca2b14e700304c69059a161d85f2ab4a61e537a37ab8c54d34007"
   }
  }
 },
 "nbformat": 4,
 "nbformat_minor": 2
}
